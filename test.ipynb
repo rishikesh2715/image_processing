{
 "cells": [
  {
   "cell_type": "code",
   "execution_count": 1,
   "metadata": {},
   "outputs": [],
   "source": [
    "import cv2\n",
    "import matplotlib.pyplot as plt\n",
    "import numpy as np\n",
    "\n",
    "np.set_printoptions(threshold=np.inf)"
   ]
  },
  {
   "cell_type": "code",
   "execution_count": 2,
   "metadata": {},
   "outputs": [],
   "source": [
    "# read an image\n",
    "img = cv2.imread(\"logo.jpg\", cv2.IMREAD_GRAYSCALE)\n"
   ]
  },
  {
   "cell_type": "code",
   "execution_count": 3,
   "metadata": {},
   "outputs": [
    {
     "data": {
      "image/png": "[encoded data removed]",
      "text/plain": [
       "<Figure size 640x480 with 1 Axes>"
      ]
     },
     "metadata": {},
     "output_type": "display_data"
    }
   ],
   "source": [
    "# display the image\n",
    "plt.imshow(img, cmap='gray')\n",
    "plt.show()"
   ]
  },
  {
   "cell_type": "code",
   "execution_count": 4,
   "metadata": {},
   "outputs": [
    {
     "data": {
      "text/plain": [
       "array([[255, 255, 250, 228, 223, 216, 235, 224, 236, 255, 224, 223, 211,\n",
       "        169, 167, 166, 166, 191, 196, 197, 236, 213, 244, 244, 214, 255,\n",
       "        214, 244, 224, 236, 225, 236],\n",
       "       [254, 255, 236, 222, 255, 222, 236, 224, 230, 203, 168, 186, 230,\n",
       "        236, 235, 232, 203, 212, 226, 177, 176, 160, 211, 240, 214, 255,\n",
       "        214, 245, 224, 236, 230, 229],\n",
       "       [254, 254, 251, 218, 216, 228, 236, 179, 170, 229, 221, 186, 166,\n",
       "        161, 140, 140, 120, 126, 136, 176, 223, 198, 168, 164, 200, 252,\n",
       "        214, 244, 236, 214, 236, 216],\n",
       "       [254, 255, 255, 255, 255, 246, 186, 222, 240, 195, 142, 120, 113,\n",
       "        113, 111, 112, 113, 112, 111, 114, 120, 154, 203, 217, 176, 203,\n",
       "        255, 255, 255, 255, 255, 254],\n",
       "       [255, 254, 255, 255, 232, 185, 235, 225, 142, 118, 111, 115, 115,\n",
       "        114, 115, 115, 115, 114, 115, 114, 112, 109, 119, 159, 213, 198,\n",
       "        186, 255, 255, 255, 254, 255],\n",
       "       [254, 254, 255, 241, 183, 244, 197, 124, 108, 115, 115, 115, 115,\n",
       "        116, 115, 113, 115, 115, 115, 116, 116, 113, 111, 111, 133, 203,\n",
       "        196, 186, 254, 255, 254, 255],\n",
       "       [255, 254, 248, 180, 243, 187, 118, 108, 115, 116, 116, 116, 114,\n",
       "        115, 115, 115, 115, 116, 115, 114, 115, 115, 114, 110, 110, 127,\n",
       "        201, 193, 205, 254, 255, 255],\n",
       "       [254, 255, 195, 236, 214, 118, 106, 116, 116, 115, 115, 115, 115,\n",
       "        116, 115, 115, 116, 115, 115, 115, 115, 115, 113, 112, 109, 110,\n",
       "        130, 204, 169, 234, 255, 254],\n",
       "       [254, 233, 204, 230, 129, 104, 113, 115, 115, 134, 157, 154, 143,\n",
       "        135, 125, 116, 137, 159, 174, 175, 184, 166, 126, 109, 103, 104,\n",
       "        111, 151, 202, 178, 214, 244],\n",
       "       [255, 186, 240, 170, 110, 108, 115, 115, 115, 115, 125, 152, 180,\n",
       "        202, 225, 181, 224, 202, 189, 162, 125, 109, 108, 109,  97, 101,\n",
       "        108, 116, 188, 184, 188, 244],\n",
       "       [239, 202, 230, 123, 104, 114, 114, 115, 114, 116, 114, 115, 163,\n",
       "        201, 221, 228, 220, 178, 150, 113, 107,  92,  98,  91,  92,  91,\n",
       "         99, 109, 144, 196, 158, 218],\n",
       "       [204, 232, 185, 110, 107, 115, 115, 115, 115, 114, 116, 115, 115,\n",
       "        120, 169, 178, 160, 137, 128,  95, 104,  91, 103, 110,  95, 101,\n",
       "        110, 108, 116, 195, 141, 240],\n",
       "       [198, 238, 148, 107, 109, 115, 115, 115, 114, 117, 114, 115, 115,\n",
       "        115, 120, 115, 109, 100,  94,  90, 106,  91, 104, 109,  96, 100,\n",
       "        105,  90,  92, 157, 153, 216],\n",
       "       [194, 235, 122, 106, 110, 115, 115, 115, 115, 114, 115, 115, 135,\n",
       "        126, 171, 165, 158, 137, 124,  99, 105,  91, 105, 111,  95, 101,\n",
       "        107, 108, 110, 146, 160, 188],\n",
       "       [197, 224, 116, 107, 110, 115, 115, 114, 115, 114, 115, 126, 174,\n",
       "        193, 224, 224, 215, 187, 188, 127, 111,  91, 104, 109, 101,  92,\n",
       "         98, 109, 108, 131, 160, 172],\n",
       "       [208, 198, 115, 107, 110, 113, 116, 115, 115, 115, 130, 181, 213,\n",
       "        228, 228, 229, 224, 229, 228, 216, 187, 118, 109, 109, 109, 109,\n",
       "        109, 109, 108, 127, 187, 178],\n",
       "       [207, 196, 115, 108, 107, 107, 106, 105, 104, 105, 131, 216, 228,\n",
       "        224, 213, 216, 217, 213, 223, 228, 209, 134, 109, 109, 109, 109,\n",
       "        109, 108, 107, 127, 186, 178],\n",
       "       [200, 204, 115, 109, 109, 106, 108, 107, 107, 120, 202, 220, 228,\n",
       "        213, 228, 229, 227, 228, 213, 229, 228, 198, 121, 110, 109, 109,\n",
       "        110, 108, 108, 126, 184, 185],\n",
       "       [182, 225, 114, 109, 107, 108, 107, 107, 107, 117, 183, 228, 216,\n",
       "        228, 229, 228, 228, 228, 229, 210, 229, 188, 123, 109, 109, 109,\n",
       "        108, 108, 107, 144, 183, 199],\n",
       "       [186, 224, 163, 182, 151, 127, 115, 142, 177, 207, 227, 230, 229,\n",
       "        233, 231, 230, 236, 243, 250, 250, 246, 223, 186, 138, 121, 140,\n",
       "        178, 216, 220, 153, 178, 212],\n",
       "       [198, 223, 158, 211, 211, 211, 216, 217, 217, 208, 182, 204, 234,\n",
       "        236, 222, 213, 245, 249, 236, 199, 229, 244, 240, 238, 199, 208,\n",
       "        213, 201, 178, 172, 164, 210],\n",
       "       [218, 199, 198, 103, 128, 170, 172, 150, 114,  71,  86,  87,  99,\n",
       "        142, 176, 169, 164, 129,  80,  80,  81, 111, 146, 190, 182, 173,\n",
       "        156, 146, 150, 180, 171, 224],\n",
       "       [255, 164, 182, 106,  75,  76,  73,  70,  88, 120, 144, 142, 124,\n",
       "         88,  80,  74,  72,  88, 143, 170, 143, 120,  70,  74,  75, 108,\n",
       "        146, 150, 161, 152, 172, 216],\n",
       "       [254, 204, 206, 176, 144, 157, 149, 203, 210, 150, 144, 174, 218,\n",
       "        221, 176, 167, 229, 223, 179, 146, 171, 228, 189, 183, 169, 196,\n",
       "        216, 127, 166, 136, 245, 224],\n",
       "       [255, 230, 155, 183, 141, 131, 120, 115,  79,  71,  86,  75,  72,\n",
       "         91, 141, 133, 128,  78,  69,  69,  76,  84, 101, 155, 155, 167,\n",
       "        142, 148, 158, 178, 255, 224],\n",
       "       [244, 214, 231, 162, 186, 126,  73,  83,  87, 105, 143, 137, 101,\n",
       "         87,  80,  76,  86,  91, 127, 138, 134,  99,  72,  88, 114, 134,\n",
       "        147, 154, 162, 218, 255, 222],\n",
       "       [255, 225, 214, 190, 168, 186, 127, 169, 217, 170, 153, 174, 232,\n",
       "        210, 167, 159, 172, 219, 209, 183, 166, 213, 186, 187, 145, 138,\n",
       "        169, 133, 224, 222, 216, 222],\n",
       "       [255, 255, 255, 255, 199, 187, 204, 157, 112,  82,  83,  85,  93,\n",
       "        131, 160, 172, 137, 104,  81,  85,  89, 136, 189, 151, 165, 176,\n",
       "        158, 233, 254, 255, 254, 255],\n",
       "       [255, 255, 255, 254, 255, 211, 174, 200, 181, 120,  93,  84,  86,\n",
       "         86,  88,  86,  84,  80,  81,  84,  98, 131, 146, 173, 174, 166,\n",
       "        241, 253, 254, 255, 255, 254],\n",
       "       [255, 255, 255, 255, 254, 255, 233, 175, 190, 196, 177, 141, 115,\n",
       "        102,  97, 101, 102, 103, 113, 131, 151, 175, 179, 162, 191, 247,\n",
       "        255, 255, 255, 253, 253, 255],\n",
       "       [255, 255, 255, 255, 255, 254, 255, 255, 211, 174, 179, 191, 190,\n",
       "        188, 177, 164, 164, 184, 184, 180, 176, 162, 185, 233, 255, 255,\n",
       "        255, 255, 254, 255, 255, 255],\n",
       "       [255, 255, 255, 255, 255, 255, 255, 255, 255, 255, 218, 192, 175,\n",
       "        162, 171, 174, 173, 162, 166, 184, 203, 240, 255, 255, 254, 255,\n",
       "        255, 254, 254, 255, 254, 255]], dtype=uint8)"
      ]
     },
     "execution_count": 4,
     "metadata": {},
     "output_type": "execute_result"
    }
   ],
   "source": [
    "img"
   ]
  },
  {
   "cell_type": "code",
   "execution_count": 5,
   "metadata": {},
   "outputs": [],
   "source": [
    "# Binary thresholding\n",
    "\n",
    "# threshold the image\n",
    "_, binary = cv2.threshold(img, 127, 255, cv2.THRESH_BINARY)"
   ]
  },
  {
   "cell_type": "code",
   "execution_count": 6,
   "metadata": {},
   "outputs": [
    {
     "data": {
      "text/plain": [
       "<matplotlib.image.AxesImage at 0x209d3fd87f0>"
      ]
     },
     "execution_count": 6,
     "metadata": {},
     "output_type": "execute_result"
    },
    {
     "data": {
      "image/png": "[encoded data removed]",
      "text/plain": [
       "<Figure size 640x480 with 1 Axes>"
      ]
     },
     "metadata": {},
     "output_type": "display_data"
    }
   ],
   "source": [
    "plt.imshow(binary, cmap='gray')"
   ]
  },
  {
   "cell_type": "code",
   "execution_count": 7,
   "metadata": {},
   "outputs": [
    {
     "data": {
      "text/plain": [
       "array([[255, 255, 255, 255, 255, 255, 255, 255, 255, 255, 255, 255, 255,\n",
       "        255, 255, 255, 255, 255, 255, 255, 255, 255, 255, 255, 255, 255,\n",
       "        255, 255, 255, 255, 255, 255],\n",
       "       [255, 255, 255, 255, 255, 255, 255, 255, 255, 255, 255, 255, 255,\n",
       "        255, 255, 255, 255, 255, 255, 255, 255, 255, 255, 255, 255, 255,\n",
       "        255, 255, 255, 255, 255, 255],\n",
       "       [255, 255, 255, 255, 255, 255, 255, 255, 255, 255, 255, 255, 255,\n",
       "        255, 255, 255,   0,   0, 255, 255, 255, 255, 255, 255, 255, 255,\n",
       "        255, 255, 255, 255, 255, 255],\n",
       "       [255, 255, 255, 255, 255, 255, 255, 255, 255, 255, 255,   0,   0,\n",
       "          0,   0,   0,   0,   0,   0,   0,   0, 255, 255, 255, 255, 255,\n",
       "        255, 255, 255, 255, 255, 255],\n",
       "       [255, 255, 255, 255, 255, 255, 255, 255, 255,   0,   0,   0,   0,\n",
       "          0,   0,   0,   0,   0,   0,   0,   0,   0,   0, 255, 255, 255,\n",
       "        255, 255, 255, 255, 255, 255],\n",
       "       [255, 255, 255, 255, 255, 255, 255,   0,   0,   0,   0,   0,   0,\n",
       "          0,   0,   0,   0,   0,   0,   0,   0,   0,   0,   0, 255, 255,\n",
       "        255, 255, 255, 255, 255, 255],\n",
       "       [255, 255, 255, 255, 255, 255,   0,   0,   0,   0,   0,   0,   0,\n",
       "          0,   0,   0,   0,   0,   0,   0,   0,   0,   0,   0,   0,   0,\n",
       "        255, 255, 255, 255, 255, 255],\n",
       "       [255, 255, 255, 255, 255,   0,   0,   0,   0,   0,   0,   0,   0,\n",
       "          0,   0,   0,   0,   0,   0,   0,   0,   0,   0,   0,   0,   0,\n",
       "        255, 255, 255, 255, 255, 255],\n",
       "       [255, 255, 255, 255, 255,   0,   0,   0,   0, 255, 255, 255, 255,\n",
       "        255,   0,   0, 255, 255, 255, 255, 255, 255,   0,   0,   0,   0,\n",
       "          0, 255, 255, 255, 255, 255],\n",
       "       [255, 255, 255, 255,   0,   0,   0,   0,   0,   0,   0, 255, 255,\n",
       "        255, 255, 255, 255, 255, 255, 255,   0,   0,   0,   0,   0,   0,\n",
       "          0,   0, 255, 255, 255, 255],\n",
       "       [255, 255, 255,   0,   0,   0,   0,   0,   0,   0,   0,   0, 255,\n",
       "        255, 255, 255, 255, 255, 255,   0,   0,   0,   0,   0,   0,   0,\n",
       "          0,   0, 255, 255, 255, 255],\n",
       "       [255, 255, 255,   0,   0,   0,   0,   0,   0,   0,   0,   0,   0,\n",
       "          0, 255, 255, 255, 255, 255,   0,   0,   0,   0,   0,   0,   0,\n",
       "          0,   0,   0, 255, 255, 255],\n",
       "       [255, 255, 255,   0,   0,   0,   0,   0,   0,   0,   0,   0,   0,\n",
       "          0,   0,   0,   0,   0,   0,   0,   0,   0,   0,   0,   0,   0,\n",
       "          0,   0,   0, 255, 255, 255],\n",
       "       [255, 255,   0,   0,   0,   0,   0,   0,   0,   0,   0,   0, 255,\n",
       "          0, 255, 255, 255, 255,   0,   0,   0,   0,   0,   0,   0,   0,\n",
       "          0,   0,   0, 255, 255, 255],\n",
       "       [255, 255,   0,   0,   0,   0,   0,   0,   0,   0,   0,   0, 255,\n",
       "        255, 255, 255, 255, 255, 255,   0,   0,   0,   0,   0,   0,   0,\n",
       "          0,   0,   0, 255, 255, 255],\n",
       "       [255, 255,   0,   0,   0,   0,   0,   0,   0,   0, 255, 255, 255,\n",
       "        255, 255, 255, 255, 255, 255, 255, 255,   0,   0,   0,   0,   0,\n",
       "          0,   0,   0,   0, 255, 255],\n",
       "       [255, 255,   0,   0,   0,   0,   0,   0,   0,   0, 255, 255, 255,\n",
       "        255, 255, 255, 255, 255, 255, 255, 255, 255,   0,   0,   0,   0,\n",
       "          0,   0,   0,   0, 255, 255],\n",
       "       [255, 255,   0,   0,   0,   0,   0,   0,   0,   0, 255, 255, 255,\n",
       "        255, 255, 255, 255, 255, 255, 255, 255, 255,   0,   0,   0,   0,\n",
       "          0,   0,   0,   0, 255, 255],\n",
       "       [255, 255,   0,   0,   0,   0,   0,   0,   0,   0, 255, 255, 255,\n",
       "        255, 255, 255, 255, 255, 255, 255, 255, 255,   0,   0,   0,   0,\n",
       "          0,   0,   0, 255, 255, 255],\n",
       "       [255, 255, 255, 255, 255,   0,   0, 255, 255, 255, 255, 255, 255,\n",
       "        255, 255, 255, 255, 255, 255, 255, 255, 255, 255, 255,   0, 255,\n",
       "        255, 255, 255, 255, 255, 255],\n",
       "       [255, 255, 255, 255, 255, 255, 255, 255, 255, 255, 255, 255, 255,\n",
       "        255, 255, 255, 255, 255, 255, 255, 255, 255, 255, 255, 255, 255,\n",
       "        255, 255, 255, 255, 255, 255],\n",
       "       [255, 255, 255,   0, 255, 255, 255, 255,   0,   0,   0,   0,   0,\n",
       "        255, 255, 255, 255, 255,   0,   0,   0,   0, 255, 255, 255, 255,\n",
       "        255, 255, 255, 255, 255, 255],\n",
       "       [255, 255, 255,   0,   0,   0,   0,   0,   0,   0, 255, 255,   0,\n",
       "          0,   0,   0,   0,   0, 255, 255, 255,   0,   0,   0,   0,   0,\n",
       "        255, 255, 255, 255, 255, 255],\n",
       "       [255, 255, 255, 255, 255, 255, 255, 255, 255, 255, 255, 255, 255,\n",
       "        255, 255, 255, 255, 255, 255, 255, 255, 255, 255, 255, 255, 255,\n",
       "        255,   0, 255, 255, 255, 255],\n",
       "       [255, 255, 255, 255, 255, 255,   0,   0,   0,   0,   0,   0,   0,\n",
       "          0, 255, 255, 255,   0,   0,   0,   0,   0,   0, 255, 255, 255,\n",
       "        255, 255, 255, 255, 255, 255],\n",
       "       [255, 255, 255, 255, 255,   0,   0,   0,   0,   0, 255, 255,   0,\n",
       "          0,   0,   0,   0,   0,   0, 255, 255,   0,   0,   0,   0, 255,\n",
       "        255, 255, 255, 255, 255, 255],\n",
       "       [255, 255, 255, 255, 255, 255,   0, 255, 255, 255, 255, 255, 255,\n",
       "        255, 255, 255, 255, 255, 255, 255, 255, 255, 255, 255, 255, 255,\n",
       "        255, 255, 255, 255, 255, 255],\n",
       "       [255, 255, 255, 255, 255, 255, 255, 255,   0,   0,   0,   0,   0,\n",
       "        255, 255, 255, 255,   0,   0,   0,   0, 255, 255, 255, 255, 255,\n",
       "        255, 255, 255, 255, 255, 255],\n",
       "       [255, 255, 255, 255, 255, 255, 255, 255, 255,   0,   0,   0,   0,\n",
       "          0,   0,   0,   0,   0,   0,   0,   0, 255, 255, 255, 255, 255,\n",
       "        255, 255, 255, 255, 255, 255],\n",
       "       [255, 255, 255, 255, 255, 255, 255, 255, 255, 255, 255, 255,   0,\n",
       "          0,   0,   0,   0,   0,   0, 255, 255, 255, 255, 255, 255, 255,\n",
       "        255, 255, 255, 255, 255, 255],\n",
       "       [255, 255, 255, 255, 255, 255, 255, 255, 255, 255, 255, 255, 255,\n",
       "        255, 255, 255, 255, 255, 255, 255, 255, 255, 255, 255, 255, 255,\n",
       "        255, 255, 255, 255, 255, 255],\n",
       "       [255, 255, 255, 255, 255, 255, 255, 255, 255, 255, 255, 255, 255,\n",
       "        255, 255, 255, 255, 255, 255, 255, 255, 255, 255, 255, 255, 255,\n",
       "        255, 255, 255, 255, 255, 255]], dtype=uint8)"
      ]
     },
     "execution_count": 7,
     "metadata": {},
     "output_type": "execute_result"
    }
   ],
   "source": [
    "binary"
   ]
  },
  {
   "cell_type": "code",
   "execution_count": 32,
   "metadata": {},
   "outputs": [
    {
     "data": {
      "text/plain": [
       "array([[  0,   1,   2,   3,   4,   5,   6,   7,   8,   9,  10,  11,  12,\n",
       "         13,  14,  15,  16,  17,  18,  19,  20,  21,  22,  23,  24,  25,\n",
       "         26,  27,  28,  29,  30,  31,  32,  33,  34,  35,  36,  37,  38,\n",
       "         39,  40,  41,  42,  43,  44,  45,  46,  47,  48,  49,  50,  51,\n",
       "         52,  53,  54,  55,  56,  57,  58,  59,  60,  61,  62,  63,  64,\n",
       "         65,  66,  67,  68,  69,  70,  71,  72,  73,  74,  75,  76,  77,\n",
       "         78,  79,  80,  81,  82,  83,  84,  85,  86,  87,  88,  89,  90,\n",
       "         91,  92,  93,  94,  95,  96,  97,  98,  99, 100, 101, 102, 103,\n",
       "        104, 105, 106, 107, 108, 109, 110, 111, 112, 113, 114, 115, 116,\n",
       "        117, 118, 119, 120, 121, 122, 123, 124, 125, 126, 127, 128, 129,\n",
       "        130, 131, 132, 133, 134, 135, 136, 137, 138, 139, 140, 141, 142,\n",
       "        143, 144, 145, 146, 147, 148, 149, 150, 151, 152, 153, 154, 155,\n",
       "        156, 157, 158, 159, 160, 161, 162, 163, 164, 165, 166, 167, 168,\n",
       "        169, 170, 171, 172, 173, 174, 175, 176, 177, 178, 179, 180, 181,\n",
       "        182, 183, 184, 185, 186, 187, 188, 189, 190, 191, 192, 193, 194,\n",
       "        195, 196, 197, 198, 199, 200, 201, 202, 203, 204, 205, 206, 207,\n",
       "        208, 209, 210, 211, 212, 213, 214, 215, 216, 217, 218, 219, 220,\n",
       "        221, 222, 223, 224, 225, 226, 227, 228, 229, 230, 231, 232, 233,\n",
       "        234, 235, 236, 237, 238, 239, 240, 241, 242, 243, 244, 245, 246,\n",
       "        247, 248, 249, 250, 251, 252, 253, 254, 255]], dtype=uint8)"
      ]
     },
     "execution_count": 32,
     "metadata": {},
     "output_type": "execute_result"
    },
    {
     "data": {
      "image/png": "[encoded data removed]",
      "text/plain": [
       "<Figure size 640x480 with 1 Axes>"
      ]
     },
     "metadata": {},
     "output_type": "display_data"
    },
    {
     "data": {
      "image/png": "[encoded data removed]",
      "text/plain": [
       "<Figure size 2000x1000 with 1 Axes>"
      ]
     },
     "metadata": {},
     "output_type": "display_data"
    }
   ],
   "source": [
    "img_test = np.array([[0, 1, 2, 3, 4, 5, 6, 7]], dtype=np.uint8)\n",
    "\n",
    "\"\"\"\n",
    "\n",
    "The reason why we need this array creats any image with evenly spaces\n",
    "gradient is because plt.imshow() cmap function normailzes the value to match the min\n",
    "and max value of the image. so, if you want to see the unnormalized image\n",
    "you need to specify vmin and vmax values of the image\n",
    "\"\"\"\n",
    "\n",
    "img_range = np.arange(0, 256, 1, dtype=np.uint8)\n",
    "\n",
    "img_range = np.array([img_range])\n",
    "\n",
    "plt.imshow(img_test, cmap='gray', vmin=0, vmax=255)\n",
    "plt.figure(figsize=(20, 10))\n",
    "plt.imshow(img_range, cmap='gray')\n",
    "img_range"
   ]
  }
 ],
 "metadata": {
  "kernelspec": {
   "display_name": "Python 3",
   "language": "python",
   "name": "python3"
  },
  "language_info": {
   "codemirror_mode": {
    "name": "ipython",
    "version": 3
   },
   "file_extension": ".py",
   "mimetype": "text/x-python",
   "name": "python",
   "nbconvert_exporter": "python",
   "pygments_lexer": "ipython3",
   "version": "3.9.5"
  }
 },
 "nbformat": 4,
 "nbformat_minor": 2
}
